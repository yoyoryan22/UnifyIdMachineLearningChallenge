{
 "cells": [
  {
   "cell_type": "code",
   "execution_count": 1,
   "metadata": {},
   "outputs": [
    {
     "name": "stderr",
     "output_type": "stream",
     "text": [
      "Using TensorFlow backend.\n"
     ]
    }
   ],
   "source": [
    "import numpy as np\n",
    "import pandas as pd\n",
    "import json\n",
    "import urllib.request\n",
    "import datetime\n",
    "\n",
    "from keras.preprocessing.text import Tokenizer\n",
    "from keras.preprocessing.sequence import pad_sequences\n",
    "from keras.models import Sequential\n",
    "from keras.layers import Embedding, Flatten, Dense, Dropout, LSTM, SimpleRNN\n",
    "from keras.optimizers import Adam\n",
    "from keras.callbacks import EarlyStopping\n",
    "\n",
    "from sklearn.ensemble import RandomForestClassifier\n",
    "from sklearn.model_selection import train_test_split\n",
    "\n",
    "import matplotlib.pyplot as plt"
   ]
  },
  {
   "cell_type": "code",
   "execution_count": 2,
   "metadata": {},
   "outputs": [
    {
     "data": {
      "text/plain": [
       "dict_keys(['user_data', 'user_label', 'next'])"
      ]
     },
     "execution_count": 2,
     "metadata": {},
     "output_type": "execute_result"
    }
   ],
   "source": [
    "with urllib.request.urlopen('https://challenges.unify.id/v1/mle/user_4a438fdede4e11e9b986acde48001122.json') as url:\n",
    "    data = json.loads(url.read().decode())\n",
    "data.keys()"
   ]
  },
  {
   "cell_type": "markdown",
   "metadata": {},
   "source": [
    "Here, I loop through the urls to gather all users and data"
   ]
  },
  {
   "cell_type": "code",
   "execution_count": 3,
   "metadata": {},
   "outputs": [],
   "source": [
    "user_ls = []\n",
    "user_data = []\n",
    "user_next = 'user_4a438fdede4e11e9b986acde48001122.json'\n",
    "\n",
    "while True:\n",
    "    \n",
    "    if user_next is None:\n",
    "        break\n",
    "    \n",
    "    with urllib.request.urlopen('https://challenges.unify.id/v1/mle/'+user_next) as url:\n",
    "        data = json.loads(url.read().decode())\n",
    "    \n",
    "    user_ls.append(data['user_label'])\n",
    "    user_data.append(data['user_data'])\n",
    "    user_next = data['next']"
   ]
  },
  {
   "cell_type": "markdown",
   "metadata": {},
   "source": [
    "This is a function that verifies if an entered string is valid or not"
   ]
  },
  {
   "cell_type": "code",
   "execution_count": 4,
   "metadata": {},
   "outputs": [],
   "source": [
    "def string_verifier(char_ls):\n",
    "    string = ''\n",
    "    for char in char_ls:\n",
    "        if char['character'] == '[backspace]':\n",
    "            string = string[:-1]\n",
    "        else:\n",
    "            string += char['character']\n",
    "    return string == 'Be Authentic. Be Yourself. Be Typing.'\n",
    "    "
   ]
  },
  {
   "cell_type": "markdown",
   "metadata": {},
   "source": [
    "Using the function above, I scan through all the data and use the string verifier to determine how many of the users typings are valid. I then store those numbers in a dictionary and remove all un-verified entries from the data"
   ]
  },
  {
   "cell_type": "code",
   "execution_count": 5,
   "metadata": {},
   "outputs": [],
   "source": [
    "valid_entries = {}\n",
    "user_data_cleaned = []\n",
    "for i in range(len(user_data)):\n",
    "    user_data_cleaned_entry = []\n",
    "    for j in range(len(user_data[i])):\n",
    "        if string_verifier(user_data[i][j]):\n",
    "            if i in valid_entries.keys():\n",
    "                valid_entries[i] = valid_entries[i] + 1\n",
    "            else:\n",
    "                valid_entries[i] = 1\n",
    "            user_data_cleaned_entry.append(user_data[i][j])\n",
    "    user_data_cleaned.append(user_data_cleaned_entry)\n",
    "user_data = user_data_cleaned"
   ]
  },
  {
   "cell_type": "markdown",
   "metadata": {},
   "source": [
    "Below, I distinguish the unqualified users as users with less than 300 valid entries"
   ]
  },
  {
   "cell_type": "code",
   "execution_count": 6,
   "metadata": {},
   "outputs": [
    {
     "data": {
      "text/plain": [
       "['4a4587d0de4e11e9857aacde48001122',\n",
       " '4a47beecde4e11e9aea4acde48001122',\n",
       " '4a47f568de4e11e98afcacde48001122',\n",
       " '4a48cf62de4e11e9a654acde48001122',\n",
       " '4a4cab0ade4e11e99c31acde48001122']"
      ]
     },
     "execution_count": 6,
     "metadata": {},
     "output_type": "execute_result"
    }
   ],
   "source": [
    "unqualified_users = [user_ls[key] for key in valid_entries.keys() if valid_entries[key]<300]\n",
    "unqualified_users"
   ]
  },
  {
   "cell_type": "markdown",
   "metadata": {},
   "source": [
    "I also make sure that those users aren't included in the data anymore and remove them"
   ]
  },
  {
   "cell_type": "code",
   "execution_count": 7,
   "metadata": {},
   "outputs": [],
   "source": [
    "user_ls = [user_ls[key] for key in valid_entries.keys() if valid_entries[key]>=300]\n",
    "user_data = [user_data[key] for key in valid_entries.keys() if valid_entries[key]>=300]"
   ]
  },
  {
   "cell_type": "markdown",
   "metadata": {},
   "source": [
    "Here, I aggregate my data into a dataframe. I also create a column for time differences, which are the microseconds in the timedelta between keystokes. I feel that this data is better since there is no need to store the enter datetime and that this would be more efficient to train on."
   ]
  },
  {
   "cell_type": "code",
   "execution_count": 8,
   "metadata": {},
   "outputs": [],
   "source": [
    "user_col = []\n",
    "user_char_col = []\n",
    "user_time_col = []\n",
    "user_time_diffs_col = []\n",
    "\n",
    "for i in range(len(user_ls)):\n",
    "    \n",
    "    user = user_ls[i]\n",
    "    data = user_data[i]\n",
    "    \n",
    "    for j in range(len(data)):\n",
    "        user_col.append(user)\n",
    "        user_char_col.append([keystroke['character'] for keystroke in data[j]])\n",
    "        times = pd.to_datetime([keystroke['typed_at'] for keystroke in data[j]])\n",
    "        user_time_col.append(times)\n",
    "        user_time_diffs_col.append([0]+[(times[i+1]-times[i]).microseconds for i in range(len(times)-1)])\n",
    "\n",
    "data = {'User': user_col, 'Characters': user_char_col, 'Times': user_time_col, 'Time_Differences': user_time_diffs_col} \n",
    "\n",
    "df = pd.DataFrame(data) "
   ]
  },
  {
   "cell_type": "code",
   "execution_count": 9,
   "metadata": {},
   "outputs": [
    {
     "data": {
      "text/html": [
       "<div>\n",
       "<style scoped>\n",
       "    .dataframe tbody tr th:only-of-type {\n",
       "        vertical-align: middle;\n",
       "    }\n",
       "\n",
       "    .dataframe tbody tr th {\n",
       "        vertical-align: top;\n",
       "    }\n",
       "\n",
       "    .dataframe thead th {\n",
       "        text-align: right;\n",
       "    }\n",
       "</style>\n",
       "<table border=\"1\" class=\"dataframe\">\n",
       "  <thead>\n",
       "    <tr style=\"text-align: right;\">\n",
       "      <th></th>\n",
       "      <th>User</th>\n",
       "      <th>Characters</th>\n",
       "      <th>Times</th>\n",
       "      <th>Time_Differences</th>\n",
       "    </tr>\n",
       "  </thead>\n",
       "  <tbody>\n",
       "    <tr>\n",
       "      <td>0</td>\n",
       "      <td>4a438fdede4e11e9b986acde48001122</td>\n",
       "      <td>[B, e,  , A, u, t, h, e, n, t, i, c, .,  , b, ...</td>\n",
       "      <td>DatetimeIndex(['2019-06-30 15:05:44.743893', '...</td>\n",
       "      <td>[0, 13945, 1499, 1758, 15259, 9911, 5716, 1029...</td>\n",
       "    </tr>\n",
       "    <tr>\n",
       "      <td>1</td>\n",
       "      <td>4a438fdede4e11e9b986acde48001122</td>\n",
       "      <td>[B, e,  , A, u, t, h, e, n, t, i, c, .,  , B, ...</td>\n",
       "      <td>DatetimeIndex(['2018-10-07 15:05:44.873524', '...</td>\n",
       "      <td>[0, 6543, 16507, 4790, 12739, 1711, 2104, 2453...</td>\n",
       "    </tr>\n",
       "    <tr>\n",
       "      <td>2</td>\n",
       "      <td>4a438fdede4e11e9b986acde48001122</td>\n",
       "      <td>[B, e,  , A, u, t, h, h, [backspace], e, n, t,...</td>\n",
       "      <td>DatetimeIndex(['2018-12-09 15:05:44.858437', '...</td>\n",
       "      <td>[0, 12474, 16723, 2809, 14726, 9322, 2371, 717...</td>\n",
       "    </tr>\n",
       "    <tr>\n",
       "      <td>3</td>\n",
       "      <td>4a438fdede4e11e9b986acde48001122</td>\n",
       "      <td>[B, e,  , A, u, t, h, e, n, t, i, c, .,  , b, ...</td>\n",
       "      <td>DatetimeIndex(['2018-10-29 15:05:44.726315', '...</td>\n",
       "      <td>[0, 20640, 5449, 9855, 3401, 9706, 7410, 15984...</td>\n",
       "    </tr>\n",
       "    <tr>\n",
       "      <td>4</td>\n",
       "      <td>4a438fdede4e11e9b986acde48001122</td>\n",
       "      <td>[B, e,  , A, u, t, h, h, [backspace], e, n, t,...</td>\n",
       "      <td>DatetimeIndex(['2019-02-10 15:05:44.852374', '...</td>\n",
       "      <td>[0, 8864, 4650, 9603, 9576, 8698, 3582, 2831, ...</td>\n",
       "    </tr>\n",
       "  </tbody>\n",
       "</table>\n",
       "</div>"
      ],
      "text/plain": [
       "                               User  \\\n",
       "0  4a438fdede4e11e9b986acde48001122   \n",
       "1  4a438fdede4e11e9b986acde48001122   \n",
       "2  4a438fdede4e11e9b986acde48001122   \n",
       "3  4a438fdede4e11e9b986acde48001122   \n",
       "4  4a438fdede4e11e9b986acde48001122   \n",
       "\n",
       "                                          Characters  \\\n",
       "0  [B, e,  , A, u, t, h, e, n, t, i, c, .,  , b, ...   \n",
       "1  [B, e,  , A, u, t, h, e, n, t, i, c, .,  , B, ...   \n",
       "2  [B, e,  , A, u, t, h, h, [backspace], e, n, t,...   \n",
       "3  [B, e,  , A, u, t, h, e, n, t, i, c, .,  , b, ...   \n",
       "4  [B, e,  , A, u, t, h, h, [backspace], e, n, t,...   \n",
       "\n",
       "                                               Times  \\\n",
       "0  DatetimeIndex(['2019-06-30 15:05:44.743893', '...   \n",
       "1  DatetimeIndex(['2018-10-07 15:05:44.873524', '...   \n",
       "2  DatetimeIndex(['2018-12-09 15:05:44.858437', '...   \n",
       "3  DatetimeIndex(['2018-10-29 15:05:44.726315', '...   \n",
       "4  DatetimeIndex(['2019-02-10 15:05:44.852374', '...   \n",
       "\n",
       "                                    Time_Differences  \n",
       "0  [0, 13945, 1499, 1758, 15259, 9911, 5716, 1029...  \n",
       "1  [0, 6543, 16507, 4790, 12739, 1711, 2104, 2453...  \n",
       "2  [0, 12474, 16723, 2809, 14726, 9322, 2371, 717...  \n",
       "3  [0, 20640, 5449, 9855, 3401, 9706, 7410, 15984...  \n",
       "4  [0, 8864, 4650, 9603, 9576, 8698, 3582, 2831, ...  "
      ]
     },
     "execution_count": 9,
     "metadata": {},
     "output_type": "execute_result"
    }
   ],
   "source": [
    "df.head()"
   ]
  },
  {
   "cell_type": "markdown",
   "metadata": {},
   "source": [
    "Baseline is calculated by the guessing approach of selecting the user with the highest number of entries everytime. This would yeild the percentage below:"
   ]
  },
  {
   "cell_type": "code",
   "execution_count": 10,
   "metadata": {},
   "outputs": [
    {
     "data": {
      "text/plain": [
       "4.571594539645658"
      ]
     },
     "execution_count": 10,
     "metadata": {},
     "output_type": "execute_result"
    }
   ],
   "source": [
    "df.User.value_counts()[0]/df.shape[0]*100"
   ]
  },
  {
   "cell_type": "markdown",
   "metadata": {},
   "source": [
    "I also make the assumption that the max number of keystroke a user will enter is 50, which is 8 higher that the actual max keystrokes a user entered in the training data."
   ]
  },
  {
   "cell_type": "code",
   "execution_count": 11,
   "metadata": {},
   "outputs": [],
   "source": [
    "# max_len = len(max(df.Time_Differences, key=lambda x:len(x)))\n",
    "max_len = 50"
   ]
  },
  {
   "cell_type": "markdown",
   "metadata": {},
   "source": [
    "Here, i one-hot encode the users to create targets, and also take the number of users as the lstm layers"
   ]
  },
  {
   "cell_type": "code",
   "execution_count": 12,
   "metadata": {},
   "outputs": [
    {
     "data": {
      "text/plain": [
       "35"
      ]
     },
     "execution_count": 12,
     "metadata": {},
     "output_type": "execute_result"
    }
   ],
   "source": [
    "targets = pd.get_dummies(df.User)\n",
    "lstm_dim = targets.shape[1]\n",
    "lstm_dim"
   ]
  },
  {
   "cell_type": "markdown",
   "metadata": {},
   "source": [
    "The code below format the features by standardizing the time differences between key strokes and converting the characters into their ascii value. I also combine those two metrics in pairs for the tensor input for the RNN and concatenate them for the random forrest classifier."
   ]
  },
  {
   "cell_type": "code",
   "execution_count": 14,
   "metadata": {},
   "outputs": [],
   "source": [
    "features = []\n",
    "rf_features = []\n",
    "\n",
    "for i in range(df.shape[0]):\n",
    "    \n",
    "    time_diff = df.Time_Differences[i]\n",
    "    chars = df.Characters[i]\n",
    "    feature_entry = []\n",
    "    rf_feature_entry = []\n",
    "    \n",
    "    for j in range(len(time_diff)):\n",
    "        norm_time_diff = (time_diff[j]-np.mean(time_diff))/np.std(time_diff)\n",
    "        char_num = 0\n",
    "        if chars[j] == '[backspace]':\n",
    "            char_num = ord('\\b')\n",
    "        else:\n",
    "            char_num = ord(chars[j])\n",
    "    \n",
    "        feature_entry.append([norm_time_diff, char_num])\n",
    "        \n",
    "    feature_entry = feature_entry + [[0,0]]*(max_len-len(feature_entry))\n",
    "    rf_feature_entry = [entry[0] for entry in feature_entry] + [entry[1] for entry in feature_entry]\n",
    "    \n",
    "    features.append(feature_entry)\n",
    "    rf_features.append(rf_feature_entry)\n",
    "\n",
    "features = np.array(features)\n",
    "rf_features = np.array(rf_features)"
   ]
  },
  {
   "cell_type": "code",
   "execution_count": 15,
   "metadata": {
    "scrolled": true
   },
   "outputs": [
    {
     "data": {
      "text/plain": [
       "True"
      ]
     },
     "execution_count": 15,
     "metadata": {},
     "output_type": "execute_result"
    }
   ],
   "source": [
    "len(features) == sum([1 if len(time_diff)==max_len else 0 for time_diff in features])"
   ]
  },
  {
   "cell_type": "code",
   "execution_count": 16,
   "metadata": {},
   "outputs": [],
   "source": [
    "train_features, test_features, train_targets, test_targets = train_test_split(rf_features, targets, test_size = 0.20, random_state = 22)"
   ]
  },
  {
   "cell_type": "markdown",
   "metadata": {},
   "source": [
    "Here, I hyperparameterize my RandomForestClassifier on n_estimators. Given more time, I would also have hyperparameterized on max_depth. Based on the results, 5 estimators provides a high accuracy compared to the baseline."
   ]
  },
  {
   "cell_type": "code",
   "execution_count": 40,
   "metadata": {},
   "outputs": [
    {
     "data": {
      "text/plain": [
       "{'n_estimators:5': 12.663374963694451,\n",
       " 'n_estimators:6': 9.700842288701713,\n",
       " 'n_estimators:7': 12.111530641882078,\n",
       " 'n_estimators:8': 9.236131280859714,\n",
       " 'n_estimators:9': 11.327330816148708,\n",
       " 'n_estimators:10': 9.090909090909092,\n",
       " 'n_estimators:11': 10.107464420563463,\n",
       " 'n_estimators:12': 8.655242521057218,\n",
       " 'n_estimators:13': 9.555620098751088,\n",
       " 'n_estimators:14': 8.480975893116469,\n",
       " 'n_estimators:15': 9.061864652918967,\n",
       " 'n_estimators:16': 8.248620389195468,\n",
       " 'n_estimators:17': 9.032820214928842,\n",
       " 'n_estimators:18': 8.277664827185593,\n",
       " 'n_estimators:19': 8.887598024978216,\n",
       " 'n_estimators:20': 8.161487075225095,\n",
       " 'n_estimators:21': 8.742375835027593,\n",
       " 'n_estimators:22': 8.103398199244845,\n",
       " 'n_estimators:23': 8.451931455126344,\n",
       " 'n_estimators:24': 7.841998257333721}"
      ]
     },
     "execution_count": 40,
     "metadata": {},
     "output_type": "execute_result"
    }
   ],
   "source": [
    "accuracies = {}\n",
    "for n in range(5,25):\n",
    "    rf = RandomForestClassifier(n_estimators = n, n_jobs = -1, random_state = 22)\n",
    "\n",
    "    rf.fit(train_features, train_targets)\n",
    "    predictions = rf.predict(test_features)\n",
    "\n",
    "    correct_preds = 0\n",
    "    for i in range(len(predictions)):\n",
    "        if (test_targets.iloc[i]==predictions[i]).all():\n",
    "            correct_preds+=1\n",
    "\n",
    "    accuracies['n_estimators:{}'.format(n)]=correct_preds/len(predictions)*100\n",
    "    \n",
    "accuracies"
   ]
  },
  {
   "cell_type": "code",
   "execution_count": 85,
   "metadata": {},
   "outputs": [
    {
     "data": {
      "text/plain": [
       "RandomForestClassifier(bootstrap=True, class_weight=None, criterion='gini',\n",
       "                       max_depth=None, max_features='auto', max_leaf_nodes=None,\n",
       "                       min_impurity_decrease=0.0, min_impurity_split=None,\n",
       "                       min_samples_leaf=1, min_samples_split=2,\n",
       "                       min_weight_fraction_leaf=0.0, n_estimators=5, n_jobs=-1,\n",
       "                       oob_score=False, random_state=22, verbose=0,\n",
       "                       warm_start=False)"
      ]
     },
     "execution_count": 85,
     "metadata": {},
     "output_type": "execute_result"
    }
   ],
   "source": [
    "rf = RandomForestClassifier(n_estimators = 5, n_jobs = -1, random_state = 22)\n",
    "rf.fit(train_features, train_targets)"
   ]
  },
  {
   "cell_type": "markdown",
   "metadata": {},
   "source": [
    "Attempted to run a Recurrent Neural Network with LSTM's, however I was unable to make a network big enough with enough training given my limited resources."
   ]
  },
  {
   "cell_type": "code",
   "execution_count": null,
   "metadata": {},
   "outputs": [],
   "source": [
    "# model = Sequential()\n",
    "\n",
    "# model.add(LSTM((lstm_dim),batch_input_shape=(None,max_len,2),return_sequences=True))\n",
    "# model.add(LSTM((lstm_dim),return_sequences=True))\n",
    "# model.add(LSTM((lstm_dim),return_sequences=False))\n",
    "# # model.add(SimpleRNN((lstm_dim),batch_input_shape=(None,max_len,2),return_sequences=True))\n",
    "# # model.add(SimpleRNN((lstm_dim),batch_input_shape=(None,max_len,2),return_sequences=True))\n",
    "# # model.add(SimpleRNN((lstm_dim),batch_input_shape=(None,max_len,2),return_sequences=False))\n",
    "# model.add(Dense(lstm_dim, activation='softmax'))\n",
    "\n",
    "# # model.layers[0].set_weights([embedding_matrix])\n",
    "# # model.layers[0].trainable = False #since GloVe embeddings are pretrained\n",
    "\n",
    "# model.compile(optimizer='Adam',loss='categorical_crossentropy',metrics=['acc'])\n",
    "# history = model.fit(features,targets,epochs=100, validation_split=0.2, callbacks=[EarlyStopping(patience=5)]) "
   ]
  },
  {
   "cell_type": "markdown",
   "metadata": {},
   "source": [
    "prototype for running entries. Note: input format is expected to match sample data given in the email."
   ]
  },
  {
   "cell_type": "code",
   "execution_count": 89,
   "metadata": {},
   "outputs": [
    {
     "name": "stdout",
     "output_type": "stream",
     "text": [
      "Please enter the filepath of your entry./Desktop/sample_test.json\n",
      "Entry 1: Unable to distinguish user\n",
      "Entry 2: Unable to distinguish user\n",
      "Entry 3: Unable to distinguish user\n",
      "Entry 4: Unable to distinguish user\n",
      "Entry 5: Unable to distinguish user\n",
      "Entry 6: Unable to distinguish user\n",
      "Entry 7: Unable to distinguish user\n",
      "Entry 8: Unable to distinguish user\n",
      "Entry 9: Unable to distinguish user\n",
      "Entry 10: Invalid Input\n",
      "Entry 11: Unable to distinguish user\n",
      "Entry 12: Unable to distinguish user\n",
      "Entry 13: Unable to distinguish user\n",
      "Entry 14: Unable to distinguish user\n",
      "Entry 15: Invalid Input\n",
      "Entry 16: User 4a4a518cde4e11e99ae3acde48001122\n",
      "Entry 17: Unable to distinguish user\n",
      "Entry 18: Invalid Input\n",
      "Entry 19: Unable to distinguish user\n",
      "Entry 20: Unable to distinguish user\n",
      "Entry 21: Unable to distinguish user\n",
      "Entry 22: Unable to distinguish user\n",
      "Entry 23: User 4a438fdede4e11e9b986acde48001122\n",
      "Entry 24: Unable to distinguish user\n",
      "Entry 25: Invalid Input\n",
      "Entry 26: Unable to distinguish user\n",
      "Entry 27: Unable to distinguish user\n",
      "Entry 28: Unable to distinguish user\n",
      "Entry 29: Invalid Input\n",
      "Entry 30: Unable to distinguish user\n",
      "Entry 31: Unable to distinguish user\n",
      "Entry 32: Unable to distinguish user\n",
      "Entry 33: Unable to distinguish user\n",
      "Entry 34: Unable to distinguish user\n",
      "Entry 35: Unable to distinguish user\n",
      "Entry 36: Unable to distinguish user\n",
      "Entry 37: Invalid Input\n",
      "Entry 38: User 4a4d17f4de4e11e9bdbaacde48001122\n",
      "Entry 39: Invalid Input\n",
      "Entry 40: Unable to distinguish user\n",
      "Entry 41: Unable to distinguish user\n",
      "Entry 42: Unable to distinguish user\n",
      "Entry 43: Invalid Input\n",
      "Entry 44: Unable to distinguish user\n",
      "Entry 45: Unable to distinguish user\n",
      "Entry 46: Invalid Input\n",
      "Entry 47: User 4a474bf6de4e11e980dbacde48001122\n",
      "Entry 48: Unable to distinguish user\n",
      "Entry 49: Unable to distinguish user\n",
      "Entry 50: Unable to distinguish user\n",
      "Entry 51: Unable to distinguish user\n",
      "Entry 52: Unable to distinguish user\n",
      "Entry 53: Unable to distinguish user\n",
      "Entry 54: Unable to distinguish user\n",
      "Entry 55: Unable to distinguish user\n",
      "Entry 56: Unable to distinguish user\n",
      "Entry 57: Unable to distinguish user\n",
      "Entry 58: User 4a4c06f0de4e11e997dfacde48001122\n",
      "Entry 59: Unable to distinguish user\n",
      "Entry 60: Invalid Input\n",
      "Entry 61: Invalid Input\n",
      "Entry 62: Unable to distinguish user\n",
      "Entry 63: Unable to distinguish user\n",
      "Entry 64: Invalid Input\n",
      "Entry 65: Unable to distinguish user\n",
      "Entry 66: User 4a4a518cde4e11e99ae3acde48001122\n",
      "Entry 67: User 4a47885ade4e11e98c41acde48001122\n",
      "Entry 68: Unable to distinguish user\n",
      "Entry 69: Unable to distinguish user\n",
      "Entry 70: Invalid Input\n",
      "Entry 71: Unable to distinguish user\n",
      "Entry 72: Unable to distinguish user\n",
      "Entry 73: Invalid Input\n",
      "Entry 74: Unable to distinguish user\n",
      "Entry 75: Unable to distinguish user\n",
      "Entry 76: User 4a493c4ade4e11e99e33acde48001122\n",
      "Entry 77: Invalid Input\n",
      "Entry 78: Unable to distinguish user\n",
      "Entry 79: Unable to distinguish user\n",
      "Entry 80: Unable to distinguish user\n",
      "Entry 81: Unable to distinguish user\n",
      "Entry 82: User 4a4a8802de4e11e9a447acde48001122\n",
      "Entry 83: Unable to distinguish user\n",
      "Entry 84: Invalid Input\n",
      "Entry 85: Unable to distinguish user\n",
      "Entry 86: Unable to distinguish user\n",
      "Entry 87: Invalid Input\n",
      "Entry 88: Unable to distinguish user\n",
      "Entry 89: Unable to distinguish user\n",
      "Entry 90: Unable to distinguish user\n",
      "Entry 91: User 4a4898e4de4e11e98573acde48001122\n",
      "Entry 92: Unable to distinguish user\n",
      "Entry 93: Invalid Input\n",
      "Entry 94: Unable to distinguish user\n",
      "Entry 95: Unable to distinguish user\n",
      "Entry 96: Unable to distinguish user\n",
      "Entry 97: Unable to distinguish user\n",
      "Entry 98: Unable to distinguish user\n",
      "Entry 99: Invalid Input\n",
      "Entry 100: User 4a4558dcde4e11e9bbfaacde48001122\n",
      "Entry 101: User 4a4c06f0de4e11e997dfacde48001122\n",
      "Entry 102: Unable to distinguish user\n",
      "Entry 103: User 4a45245cde4e11e9b51bacde48001122\n",
      "Entry 104: Invalid Input\n",
      "Entry 105: Unable to distinguish user\n",
      "Entry 106: Unable to distinguish user\n",
      "Entry 107: Unable to distinguish user\n",
      "Entry 108: Unable to distinguish user\n",
      "Entry 109: Unable to distinguish user\n",
      "Entry 110: User 4a46debede4e11e996d6acde48001122\n",
      "Entry 111: Unable to distinguish user\n",
      "Entry 112: Unable to distinguish user\n",
      "Entry 113: Unable to distinguish user\n",
      "Entry 114: Unable to distinguish user\n",
      "Entry 115: Unable to distinguish user\n",
      "Entry 116: User 4a4c06f0de4e11e997dfacde48001122\n",
      "Entry 117: Unable to distinguish user\n",
      "Entry 118: User 4a482be8de4e11e9a2a2acde48001122\n",
      "Entry 119: Invalid Input\n",
      "Entry 120: Unable to distinguish user\n",
      "Entry 121: Invalid Input\n",
      "Entry 122: User 4a4626c2de4e11e98c17acde48001122\n",
      "Entry 123: Unable to distinguish user\n",
      "Entry 124: Unable to distinguish user\n",
      "Entry 125: Unable to distinguish user\n",
      "Entry 126: Unable to distinguish user\n",
      "Entry 127: Unable to distinguish user\n",
      "Entry 128: User 4a45f03ade4e11e9922cacde48001122\n",
      "Entry 129: Unable to distinguish user\n",
      "Entry 130: Invalid Input\n",
      "Entry 131: Unable to distinguish user\n",
      "Entry 132: Invalid Input\n",
      "Entry 133: User 4a46debede4e11e996d6acde48001122\n",
      "Entry 134: Unable to distinguish user\n",
      "Entry 135: Unable to distinguish user\n",
      "Entry 136: Unable to distinguish user\n",
      "Entry 137: Invalid Input\n",
      "Entry 138: Invalid Input\n",
      "Entry 139: Unable to distinguish user\n",
      "Entry 140: Invalid Input\n",
      "Entry 141: Unable to distinguish user\n",
      "Entry 142: Unable to distinguish user\n",
      "Entry 143: Invalid Input\n",
      "Entry 144: Unable to distinguish user\n",
      "Entry 145: Unable to distinguish user\n",
      "Entry 146: Unable to distinguish user\n",
      "Entry 147: User 4a4a518cde4e11e99ae3acde48001122\n",
      "Entry 148: Unable to distinguish user\n",
      "Entry 149: User 4a4a518cde4e11e99ae3acde48001122\n",
      "Entry 150: Invalid Input\n",
      "Entry 151: User 4a4b99d8de4e11e9ab53acde48001122\n",
      "Entry 152: Invalid Input\n",
      "Entry 153: Unable to distinguish user\n",
      "Entry 154: Unable to distinguish user\n",
      "Entry 155: User 4a482be8de4e11e9a2a2acde48001122\n",
      "Entry 156: Unable to distinguish user\n",
      "Entry 157: User 4a486266de4e11e98893acde48001122\n",
      "Entry 158: Invalid Input\n",
      "Entry 159: Invalid Input\n",
      "Entry 160: Unable to distinguish user\n",
      "Entry 161: Unable to distinguish user\n",
      "Entry 162: Unable to distinguish user\n",
      "Entry 163: Invalid Input\n",
      "Entry 164: Unable to distinguish user\n",
      "Entry 165: Unable to distinguish user\n",
      "Entry 166: User 4a4d4e70de4e11e9a835acde48001122\n",
      "Entry 167: Invalid Input\n",
      "Entry 168: Unable to distinguish user\n",
      "Entry 169: Unable to distinguish user\n",
      "Entry 170: Invalid Input\n",
      "Entry 171: Unable to distinguish user\n",
      "Entry 172: Unable to distinguish user\n",
      "Entry 173: Invalid Input\n",
      "Entry 174: Unable to distinguish user\n",
      "Entry 175: Unable to distinguish user\n",
      "Entry 176: Unable to distinguish user\n",
      "Entry 177: Unable to distinguish user\n",
      "Entry 178: Invalid Input\n",
      "Entry 179: Invalid Input\n",
      "Entry 180: Invalid Input\n",
      "Entry 181: Unable to distinguish user\n",
      "Entry 182: Unable to distinguish user\n",
      "Entry 183: Unable to distinguish user\n",
      "Entry 184: Invalid Input\n",
      "Entry 185: User 4a4b99d8de4e11e9ab53acde48001122\n",
      "Entry 186: Unable to distinguish user\n",
      "Entry 187: User 4a49e492de4e11e98206acde48001122\n",
      "Entry 188: Unable to distinguish user\n",
      "Entry 189: Invalid Input\n",
      "Entry 190: Unable to distinguish user\n",
      "Entry 191: Unable to distinguish user\n",
      "Entry 192: Unable to distinguish user\n",
      "Entry 193: Unable to distinguish user\n",
      "Entry 194: Invalid Input\n",
      "Entry 195: Invalid Input\n",
      "Entry 196: Invalid Input\n",
      "Entry 197: Unable to distinguish user\n",
      "Entry 198: Unable to distinguish user\n",
      "Entry 199: User 4a45245cde4e11e9b51bacde48001122\n",
      "Entry 200: User 4a4a518cde4e11e99ae3acde48001122\n",
      "Entry 201: Unable to distinguish user\n",
      "Entry 202: Unable to distinguish user\n",
      "Entry 203: Unable to distinguish user\n",
      "Entry 204: Invalid Input\n",
      "Entry 205: Invalid Input\n",
      "Entry 206: User 4a4d17f4de4e11e9bdbaacde48001122\n",
      "Entry 207: Invalid Input\n",
      "Entry 208: Unable to distinguish user\n",
      "Entry 209: Invalid Input\n",
      "Entry 210: Invalid Input\n",
      "Entry 211: Unable to distinguish user\n",
      "Entry 212: User 4a474bf6de4e11e980dbacde48001122\n",
      "Entry 213: Unable to distinguish user\n",
      "Entry 214: User 4a474bf6de4e11e980dbacde48001122\n",
      "Entry 215: Unable to distinguish user\n",
      "Entry 216: Invalid Input\n",
      "Entry 217: Unable to distinguish user\n",
      "Entry 218: Unable to distinguish user\n",
      "Entry 219: User 4a45245cde4e11e9b51bacde48001122\n",
      "Entry 220: Unable to distinguish user\n",
      "Entry 221: Unable to distinguish user\n",
      "Entry 222: User 4a482be8de4e11e9a2a2acde48001122\n",
      "Entry 223: Unable to distinguish user\n",
      "Entry 224: Unable to distinguish user\n",
      "Entry 225: Unable to distinguish user\n",
      "Entry 226: Unable to distinguish user\n",
      "Entry 227: Invalid Input\n",
      "Entry 228: Invalid Input\n",
      "Entry 229: Unable to distinguish user\n",
      "Entry 230: Unable to distinguish user\n",
      "Entry 231: User 4a4d17f4de4e11e9bdbaacde48001122\n",
      "Entry 232: Unable to distinguish user\n",
      "Entry 233: Unable to distinguish user\n",
      "Entry 234: Unable to distinguish user\n",
      "Entry 235: Unable to distinguish user\n",
      "Entry 236: Unable to distinguish user\n",
      "Entry 237: Unable to distinguish user\n",
      "Entry 238: Unable to distinguish user\n",
      "Entry 239: Invalid Input\n",
      "Entry 240: Unable to distinguish user\n",
      "Entry 241: Unable to distinguish user\n",
      "Entry 242: Unable to distinguish user\n",
      "Entry 243: Unable to distinguish user\n",
      "Entry 244: Unable to distinguish user\n",
      "Entry 245: User 4a4ce17ede4e11e9a181acde48001122\n",
      "Entry 246: Invalid Input\n",
      "Entry 247: Invalid Input\n",
      "Entry 248: User 4a4a518cde4e11e99ae3acde48001122\n",
      "Entry 249: User 4a4c06f0de4e11e997dfacde48001122\n",
      "Entry 250: Unable to distinguish user\n",
      "Entry 251: Unable to distinguish user\n",
      "Entry 252: Invalid Input\n",
      "Entry 253: Unable to distinguish user\n",
      "Entry 254: Unable to distinguish user\n",
      "Entry 255: User 4a46a7a8de4e11e99efeacde48001122\n",
      "Entry 256: Unable to distinguish user\n",
      "Entry 257: Unable to distinguish user\n",
      "Entry 258: Unable to distinguish user\n",
      "Entry 259: Unable to distinguish user\n",
      "Entry 260: Unable to distinguish user\n",
      "Entry 261: User 4a486266de4e11e98893acde48001122\n",
      "Entry 262: Invalid Input\n",
      "Entry 263: Unable to distinguish user\n",
      "Entry 264: Invalid Input\n",
      "Entry 265: User 4a4bd05ede4e11e987bfacde48001122\n",
      "Entry 266: Unable to distinguish user\n",
      "Entry 267: Invalid Input\n",
      "Entry 268: Unable to distinguish user\n",
      "Entry 269: Unable to distinguish user\n",
      "Entry 270: Unable to distinguish user\n",
      "Entry 271: Unable to distinguish user\n",
      "Entry 272: Invalid Input\n",
      "Entry 273: Unable to distinguish user\n",
      "Entry 274: User 4a4626c2de4e11e98c17acde48001122\n",
      "Entry 275: Unable to distinguish user\n",
      "Entry 276: Unable to distinguish user\n",
      "Entry 277: Unable to distinguish user\n",
      "Entry 278: Invalid Input\n",
      "Entry 279: User 4a46debede4e11e996d6acde48001122\n",
      "Entry 280: Invalid Input\n",
      "Entry 281: Unable to distinguish user\n",
      "Entry 282: User 4a49e492de4e11e98206acde48001122\n",
      "Entry 283: Unable to distinguish user\n",
      "Entry 284: User 4a4c06f0de4e11e997dfacde48001122\n",
      "Entry 285: Unable to distinguish user\n",
      "Entry 286: Unable to distinguish user\n",
      "Entry 287: Unable to distinguish user\n",
      "Entry 288: Unable to distinguish user\n",
      "Entry 289: User 4a46a7a8de4e11e99efeacde48001122\n",
      "Entry 290: Invalid Input\n",
      "Entry 291: Unable to distinguish user\n",
      "Entry 292: User 4a482be8de4e11e9a2a2acde48001122\n",
      "Entry 293: Unable to distinguish user\n",
      "Entry 294: Unable to distinguish user\n",
      "Entry 295: Invalid Input\n",
      "Entry 296: Invalid Input\n",
      "Entry 297: Unable to distinguish user\n",
      "Entry 298: Unable to distinguish user\n",
      "Entry 299: Unable to distinguish user\n",
      "Entry 300: Invalid Input\n",
      "Entry 301: Unable to distinguish user\n",
      "Entry 302: User 4a4c06f0de4e11e997dfacde48001122\n",
      "Entry 303: Unable to distinguish user\n",
      "Entry 304: Unable to distinguish user\n",
      "Entry 305: Unable to distinguish user\n",
      "Entry 306: Unable to distinguish user\n",
      "Entry 307: User 4a4a518cde4e11e99ae3acde48001122\n",
      "Entry 308: Unable to distinguish user\n",
      "Entry 309: Unable to distinguish user\n",
      "Entry 310: Invalid Input\n",
      "Entry 311: Invalid Input\n",
      "Entry 312: Unable to distinguish user\n",
      "Entry 313: Unable to distinguish user\n",
      "Entry 314: Unable to distinguish user\n",
      "Entry 315: Unable to distinguish user\n",
      "Entry 316: Unable to distinguish user\n",
      "Entry 317: Unable to distinguish user\n",
      "Entry 318: Unable to distinguish user\n",
      "Entry 319: User 4a4898e4de4e11e98573acde48001122\n",
      "Entry 320: Unable to distinguish user\n",
      "Entry 321: Unable to distinguish user\n",
      "Entry 322: User 4a45bafade4e11e99e37acde48001122\n",
      "Entry 323: Invalid Input\n",
      "Entry 324: Unable to distinguish user\n",
      "Entry 325: Unable to distinguish user\n",
      "Entry 326: Unable to distinguish user\n",
      "Entry 327: Unable to distinguish user\n",
      "Entry 328: Unable to distinguish user\n",
      "Entry 329: Unable to distinguish user\n",
      "Entry 330: Unable to distinguish user\n",
      "Entry 331: Unable to distinguish user\n",
      "Entry 332: User 4a46debede4e11e996d6acde48001122\n",
      "Entry 333: Invalid Input\n",
      "Entry 334: Unable to distinguish user\n",
      "Entry 335: Unable to distinguish user\n",
      "Entry 336: Unable to distinguish user\n",
      "Entry 337: User 4a4b99d8de4e11e9ab53acde48001122\n",
      "Entry 338: Unable to distinguish user\n",
      "Entry 339: Unable to distinguish user\n",
      "Entry 340: User 4a4a518cde4e11e99ae3acde48001122\n",
      "Entry 341: Unable to distinguish user\n",
      "Entry 342: Unable to distinguish user\n",
      "Entry 343: Unable to distinguish user\n",
      "Entry 344: Unable to distinguish user\n",
      "Entry 345: Unable to distinguish user\n",
      "Entry 346: Unable to distinguish user\n",
      "Entry 347: Unable to distinguish user\n",
      "Entry 348: Unable to distinguish user\n",
      "Entry 349: User 4a4c06f0de4e11e997dfacde48001122\n",
      "Entry 350: Unable to distinguish user\n",
      "Entry 351: Unable to distinguish user\n",
      "Entry 352: Unable to distinguish user\n",
      "Entry 353: User 4a4a8802de4e11e9a447acde48001122\n",
      "Entry 354: Unable to distinguish user\n",
      "Entry 355: User 4a45245cde4e11e9b51bacde48001122\n",
      "Entry 356: Unable to distinguish user\n",
      "Entry 357: Invalid Input\n",
      "Entry 358: User 4a45245cde4e11e9b51bacde48001122\n",
      "Entry 359: Unable to distinguish user\n",
      "Entry 360: Unable to distinguish user\n",
      "Entry 361: Invalid Input\n",
      "Entry 362: Unable to distinguish user\n",
      "Entry 363: Unable to distinguish user\n",
      "Entry 364: Unable to distinguish user\n",
      "Entry 365: Invalid Input\n",
      "Entry 366: Unable to distinguish user\n",
      "Entry 367: Unable to distinguish user\n",
      "Entry 368: Invalid Input\n",
      "Entry 369: Unable to distinguish user\n",
      "Entry 370: Invalid Input\n",
      "Entry 371: Unable to distinguish user\n",
      "Entry 372: Unable to distinguish user\n",
      "Entry 373: Unable to distinguish user\n",
      "Entry 374: Invalid Input\n",
      "Entry 375: Unable to distinguish user\n",
      "Entry 376: Unable to distinguish user\n",
      "Entry 377: Unable to distinguish user\n",
      "Entry 378: Invalid Input\n",
      "Entry 379: Invalid Input\n",
      "Entry 380: Invalid Input\n",
      "Entry 381: Unable to distinguish user\n",
      "Entry 382: Unable to distinguish user\n",
      "Entry 383: Unable to distinguish user\n",
      "Entry 384: Unable to distinguish user\n",
      "Entry 385: Unable to distinguish user\n",
      "Entry 386: Unable to distinguish user\n",
      "Entry 387: Invalid Input\n",
      "Entry 388: Unable to distinguish user\n",
      "Entry 389: Invalid Input\n",
      "Entry 390: Invalid Input\n",
      "Entry 391: Unable to distinguish user\n",
      "Entry 392: User 4a49e492de4e11e98206acde48001122\n",
      "Entry 393: Unable to distinguish user\n",
      "Entry 394: Unable to distinguish user\n",
      "Entry 395: User 4a482be8de4e11e9a2a2acde48001122\n",
      "Entry 396: Unable to distinguish user\n",
      "Entry 397: Unable to distinguish user\n",
      "Entry 398: User 4a4a518cde4e11e99ae3acde48001122\n",
      "Entry 399: Unable to distinguish user\n",
      "Entry 400: Unable to distinguish user\n"
     ]
    }
   ],
   "source": [
    "filepath = input(\"Please enter the filepath of your entry\")\n",
    "with open(filepath) as json_file:\n",
    "    data = json.load(json_file)\n",
    "attempts = data['attempts']\n",
    "\n",
    "entry_count = 0\n",
    "max_len = 50\n",
    "\n",
    "for attempt in attempts:\n",
    "    entry_count+=1\n",
    "    if not string_verifier(attempt):\n",
    "        print('Entry {}: Invalid Input'.format(entry_count))\n",
    "    else:\n",
    "        times = pd.to_datetime([entry['typed_at'] for entry in attempt])\n",
    "        \n",
    "        time_diffs = np.array([0]+[(times[i+1]-times[i]).microseconds for i in range(len(times)-1)])\n",
    "        time_diffs_normalized = (time_diffs-time_diffs.mean())/time_diffs.std()\n",
    "        char_nums = [ord('\\b') if entry['character'] == '[backspace]' else ord(entry['character']) for entry in attempt]\n",
    "        time_diffs_padded = list(time_diffs_normalized)+[0]*(max_len-len(time_diffs_normalized))\n",
    "        char_nums_padded = list(char_nums)+[0]*(max_len-len(char_nums))\n",
    "        \n",
    "        feature = np.array([time_diffs_padded + char_nums_padded])\n",
    "        prediction = rf.predict(feature)\n",
    "        if 1 not in prediction:\n",
    "            print('Entry {}: Unable to distinguish user'.format(entry_count))\n",
    "        else:\n",
    "            user = user_ls[sum([i if prediction[0][i]==1 else 0 for i in range(len(prediction[0]))])]\n",
    "            print('Entry {}: User {}'.format(entry_count,user))"
   ]
  },
  {
   "cell_type": "markdown",
   "metadata": {},
   "source": [
    "### Additional Questions\n",
    "\n",
    "1. If you had one additional day, what would you change or improve to your submission?\n",
    "\n",
    "If I had an additional day, I would spend that time trying to run a larger recurrent neural network and see if I could get that to work. In the context of this problem, a recurrent neural network would make a lot of sense since the keystrokes and their times occur in a sequence, and recurrent networks are great at handling sequencial data.\n",
    "\n",
    "2. How would you modify your solution if the number of users was 1,000 times larger?\n",
    "\n",
    "The biggest way I'd need to modify my solution would be in terms of hardware, since the hardware I'm currently using (my laptop) would not have enough computational power to train on that many users. This would especially be the case if I were trying to use neural networks, as those would take a lot longer to run with more data, especially since an increase in users would make the tensors larger.\n",
    "\n",
    "3. What insights and takeaways do you have on the distribution of user performance?\n",
    "\n",
    "From this challenge, I learned how difficult it can be to identify users based on the small time intervals between their keystrokes, and that there is definately a trade off between model accuracy and real-time performance of the model. I also learned that this is much more of a challenge than I thought and I will definately explore this problem in the future. \n",
    "\n",
    "4. What aspect(s) would you change about this challenge?\n",
    "\n",
    "One aspect of this challenge I would change would be to have more time, since this challenge could definately benefit from more time to train and experiment with models.\n",
    "\n",
    "5. What aspect(s) did you enjoy about this challenge?\n",
    "\n",
    "I enjoyed that this challenge had a meaningfull real-world application and how relevant it is to the kind of work the company does. Doing this challenge really gave me a feel to the kind of problems UnifyId tries to solve.\n",
    "\n"
   ]
  },
  {
   "cell_type": "code",
   "execution_count": null,
   "metadata": {},
   "outputs": [],
   "source": []
  }
 ],
 "metadata": {
  "kernelspec": {
   "display_name": "Python 3",
   "language": "python",
   "name": "python3"
  },
  "language_info": {
   "codemirror_mode": {
    "name": "ipython",
    "version": 3
   },
   "file_extension": ".py",
   "mimetype": "text/x-python",
   "name": "python",
   "nbconvert_exporter": "python",
   "pygments_lexer": "ipython3",
   "version": "3.6.9"
  }
 },
 "nbformat": 4,
 "nbformat_minor": 2
}
